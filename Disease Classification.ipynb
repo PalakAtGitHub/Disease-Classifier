{
 "cells": [
  {
   "cell_type": "code",
   "execution_count": null,
   "id": "a2375a1d",
   "metadata": {},
   "outputs": [],
   "source": [
    "# pandas"
   ]
  },
  {
   "cell_type": "code",
   "execution_count": null,
   "id": "409771b0",
   "metadata": {},
   "outputs": [],
   "source": [
    "import pandas as pd"
   ]
  },
  {
   "cell_type": "code",
   "execution_count": null,
   "id": "52dac71c",
   "metadata": {
    "scrolled": false
   },
   "outputs": [],
   "source": [
    "df=pd.read_csv('Training.csv')"
   ]
  },
  {
   "cell_type": "markdown",
   "id": "7a04a0d4",
   "metadata": {},
   "source": []
  },
  {
   "cell_type": "code",
   "execution_count": null,
   "id": "5522a46f",
   "metadata": {},
   "outputs": [],
   "source": [
    "df.head()"
   ]
  },
  {
   "cell_type": "code",
   "execution_count": null,
   "id": "da86295c",
   "metadata": {},
   "outputs": [],
   "source": [
    "df['chills'].value_counts().plot(kind='bar')"
   ]
  },
  {
   "cell_type": "code",
   "execution_count": null,
   "id": "25ca8b8a",
   "metadata": {},
   "outputs": [],
   "source": [
    "from sklearn.datasets import make_regression"
   ]
  },
  {
   "cell_type": "code",
   "execution_count": null,
   "id": "230710d9",
   "metadata": {},
   "outputs": [],
   "source": [
    "plt.scatter()"
   ]
  },
  {
   "cell_type": "code",
   "execution_count": null,
   "id": "1be65fe0",
   "metadata": {},
   "outputs": [],
   "source": [
    "x,y=make_regression(n_samples=4921,n_features=132,n_informative=132,n_targets=1)"
   ]
  },
  {
   "cell_type": "code",
   "execution_count": null,
   "id": "ea198582",
   "metadata": {},
   "outputs": [],
   "source": [
    "from sklearn.linear_model import LinearRegression\n",
    "from sklearn.model_selection import train_test_split\n",
    "ml=LinearRegression()\n",
    "train_set = pd.read_csv('Training.csv')\n",
    "test_set = pd.read_csv('testing.csv')"
   ]
  },
  {
   "cell_type": "markdown",
   "id": "78a851ec",
   "metadata": {},
   "source": [
    "# Predicting the model"
   ]
  },
  {
   "cell_type": "code",
   "execution_count": null,
   "id": "e1d7007a",
   "metadata": {},
   "outputs": [],
   "source": [
    "ml.fit(train_set)\n",
    "y_pred=ml.predict(test_set)\n",
    "print(y_pred)"
   ]
  },
  {
   "cell_type": "code",
   "execution_count": null,
   "id": "ef667fa7",
   "metadata": {},
   "outputs": [],
   "source": [
    "\n",
    "from sklearn.matrics import r2_score\n",
    "r2_score(y_test,y_predict)"
   ]
  },
  {
   "cell_type": "code",
   "execution_count": null,
   "id": "5af60cab",
   "metadata": {},
   "outputs": [],
   "source": [
    "import matplotlib.pyplot as plt\n",
    "plt.scatter(y_test,y_predict)"
   ]
  },
  {
   "cell_type": "markdown",
   "id": "1d339bf5",
   "metadata": {},
   "source": [
    "\n",
    "# Histogram"
   ]
  },
  {
   "cell_type": "code",
   "execution_count": null,
   "id": "8e1bbe6b",
   "metadata": {},
   "outputs": [],
   "source": [
    "import matplotlib.pyplot as plt"
   ]
  },
  {
   "cell_type": "code",
   "execution_count": null,
   "id": "592b0439",
   "metadata": {},
   "outputs": [],
   "source": [
    "plt.hist(df['chills'])"
   ]
  },
  {
   "cell_type": "code",
   "execution_count": null,
   "id": "e9bf3330",
   "metadata": {},
   "outputs": [],
   "source": [
    "import seaborn  as sns\n",
    "sns.histplot(df['chills'])"
   ]
  },
  {
   "cell_type": "markdown",
   "id": "28e71e0d",
   "metadata": {},
   "source": [
    "# BoxPlot\n"
   ]
  },
  {
   "cell_type": "code",
   "execution_count": null,
   "id": "b41c4c1d",
   "metadata": {},
   "outputs": [],
   "source": [
    "sns.boxplot(df['itching'])\n",
    "import matploitlib.pyplot as plt"
   ]
  },
  {
   "cell_type": "code",
   "execution_count": null,
   "id": "9197b739",
   "metadata": {},
   "outputs": [],
   "source": [
    "sns.set_style('darkgrid')"
   ]
  },
  {
   "cell_type": "code",
   "execution_count": null,
   "id": "6a90e5bd",
   "metadata": {},
   "outputs": [],
   "source": [
    "sns.pairplot(df)"
   ]
  },
  {
   "cell_type": "code",
   "execution_count": null,
   "id": "c3896fc0",
   "metadata": {},
   "outputs": [],
   "source": [
    "df.dtypes()\n"
   ]
  },
  {
   "cell_type": "code",
   "execution_count": null,
   "id": "171fe835",
   "metadata": {},
   "outputs": [],
   "source": [
    "sns.boxplot(df['chills'],df['itching'],hue=df['fungal infection'])"
   ]
  },
  {
   "cell_type": "code",
   "execution_count": null,
   "id": "b0df2edb",
   "metadata": {},
   "outputs": [],
   "source": [
    "sns.scatterplot(df['itching'],df['prognosis'],style=df['pus_filled_pimples'])\n",
    "sns.pairplot(df,hue=\"pus_filled_pimples\")"
   ]
  },
  {
   "cell_type": "markdown",
   "id": "8aa9144e",
   "metadata": {},
   "source": [
    "# Checking symmetry of that feature "
   ]
  },
  {
   "cell_type": "code",
   "execution_count": null,
   "id": "ff9e9590",
   "metadata": {},
   "outputs": [],
   "source": []
  },
  {
   "cell_type": "code",
   "execution_count": null,
   "id": "92350e7e",
   "metadata": {},
   "outputs": [],
   "source": [
    "df['chills'].skew()"
   ]
  },
  {
   "cell_type": "code",
   "execution_count": null,
   "id": "177d2ec6",
   "metadata": {},
   "outputs": [],
   "source": []
  },
  {
   "cell_type": "code",
   "execution_count": null,
   "id": "a3daccab",
   "metadata": {},
   "outputs": [],
   "source": []
  },
  {
   "cell_type": "code",
   "execution_count": null,
   "id": "cee2cbad",
   "metadata": {},
   "outputs": [],
   "source": []
  }
 ],
 "metadata": {
  "kernelspec": {
   "display_name": "Python 3.9.13 64-bit",
   "language": "python",
   "name": "python3"
  },
  "language_info": {
   "codemirror_mode": {
    "name": "ipython",
    "version": 3
   },
   "file_extension": ".py",
   "mimetype": "text/x-python",
   "name": "python",
   "nbconvert_exporter": "python",
   "pygments_lexer": "ipython3",
   "version": "3.9.13"
  },
  "vscode": {
   "interpreter": {
    "hash": "5addf786bcd861d1ce5006f23111f8cbb206731e5b61b0a5632ba9e0252558a8"
   }
  }
 },
 "nbformat": 4,
 "nbformat_minor": 5
}
